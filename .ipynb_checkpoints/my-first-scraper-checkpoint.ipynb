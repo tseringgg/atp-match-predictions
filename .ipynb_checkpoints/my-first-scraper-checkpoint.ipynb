{
 "cells": [
  {
   "cell_type": "code",
   "execution_count": 8,
   "id": "10791b44-429e-431f-89ba-791d4766a1c7",
   "metadata": {},
   "outputs": [
    {
     "name": "stdout",
     "output_type": "stream",
     "text": [
      "Example Domain\n",
      "This domain is for use in illustrative examples in documents. You may use this\n",
      "    domain in literature without prior coordination or asking for permission.\n",
      "https://www.iana.org/domains/example\n"
     ]
    }
   ],
   "source": [
    "import requests\n",
    "from bs4 import BeautifulSoup\n",
    "\n",
    "\n",
    "def scrape():\n",
    "    \n",
    "    url = 'https://www.example.com'\n",
    "    response = requests.get(url)\n",
    "    soup = BeautifulSoup(response.text, 'html.parser')\n",
    "    #print(soup)\n",
    "    title = soup.select_one('h1').text\n",
    "    text = soup.select_one('p').text\n",
    "    link = soup.select_one('a').get('href')\n",
    "    \n",
    "    print(title)\n",
    "    print(text)\n",
    "    print(link)\n",
    "\n",
    "\n",
    "if __name__ == '__main__':\n",
    "    scrape()"
   ]
  },
  {
   "cell_type": "code",
   "execution_count": null,
   "id": "18538cee-3560-4574-85a0-60e4dad069fb",
   "metadata": {},
   "outputs": [],
   "source": []
  }
 ],
 "metadata": {
  "kernelspec": {
   "display_name": "Python 3 (ipykernel)",
   "language": "python",
   "name": "python3"
  },
  "language_info": {
   "codemirror_mode": {
    "name": "ipython",
    "version": 3
   },
   "file_extension": ".py",
   "mimetype": "text/x-python",
   "name": "python",
   "nbconvert_exporter": "python",
   "pygments_lexer": "ipython3",
   "version": "3.11.9"
  }
 },
 "nbformat": 4,
 "nbformat_minor": 5
}
